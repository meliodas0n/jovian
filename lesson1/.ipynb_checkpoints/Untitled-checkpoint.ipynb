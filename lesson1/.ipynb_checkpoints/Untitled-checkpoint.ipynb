{
 "cells": [
  {
   "cell_type": "code",
   "execution_count": 1,
   "metadata": {},
   "outputs": [],
   "source": [
    "import jovian"
   ]
  },
  {
   "cell_type": "code",
   "execution_count": 3,
   "metadata": {},
   "outputs": [
    {
     "name": "stdout",
     "output_type": "stream",
     "text": [
      "we are inside an if block\n",
      "The given number is 34 is even.\n"
     ]
    }
   ],
   "source": [
    "a_number = 34\n",
    "if a_number % 2 == 0:\n",
    "    print(\"we are inside an if block\")\n",
    "    print(f\"The given number is {a_number} is even.\")"
   ]
  },
  {
   "cell_type": "code",
   "execution_count": 2,
   "metadata": {},
   "outputs": [],
   "source": [
    "another_number = 33\n",
    "if another_number % 2 == 0:\n",
    "    print(f\"The given number is {another_number} is even.\")"
   ]
  },
  {
   "cell_type": "code",
   "execution_count": 4,
   "metadata": {},
   "outputs": [
    {
     "name": "stdout",
     "output_type": "stream",
     "text": [
      "The given number 34 is even\n"
     ]
    }
   ],
   "source": [
    "a_number = 34\n",
    "if a_number % 2 == 0:\n",
    "    print(f\"The given number {a_number} is even\")\n",
    "else:\n",
    "    print(f\"The given number {a_number} is not even\")"
   ]
  },
  {
   "cell_type": "code",
   "execution_count": 5,
   "metadata": {},
   "outputs": [
    {
     "name": "stdout",
     "output_type": "stream",
     "text": [
      "D'Artagnan is not a musketeer\n"
     ]
    }
   ],
   "source": [
    "the_3_musketeers = ('Athos', 'Porthos', 'Aramis')\n",
    "a_candidate = \"D'Artagnan\"\n",
    "if a_candidate in the_3_musketeers:\n",
    "    print(f\"{a_candidate} is a musketeer\")\n",
    "else:\n",
    "    print(f\"{a_candidate} is not a musketeer\")"
   ]
  },
  {
   "cell_type": "code",
   "execution_count": null,
   "metadata": {},
   "outputs": [],
   "source": []
  }
 ],
 "metadata": {
  "kernelspec": {
   "display_name": "Python 3",
   "language": "python",
   "name": "python3"
  },
  "language_info": {
   "codemirror_mode": {
    "name": "ipython",
    "version": 3
   },
   "file_extension": ".py",
   "mimetype": "text/x-python",
   "name": "python",
   "nbconvert_exporter": "python",
   "pygments_lexer": "ipython3",
   "version": "3.9.0"
  }
 },
 "nbformat": 4,
 "nbformat_minor": 4
}
